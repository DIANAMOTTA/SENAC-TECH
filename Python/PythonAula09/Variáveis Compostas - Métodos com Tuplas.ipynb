{
 "cells": [
  {
   "cell_type": "markdown",
   "metadata": {},
   "source": [
    "**Variáveis Compostas - Métodos com Tuplas**\n",
    ">Exemplo09<br>\n",
    "\n",
    "``` python\n",
    "#A função sorted() retorna uma lista classificada do objeto iterável especificado.\n",
    "a = (\"b\", \"g\", \"a\", \"d\", \"f\", \"c\", \"h\", \"e\")\n",
    "x = sorted(a)\n",
    "print(x)\n",
    "['a', 'b', 'c', 'd', 'e', 'f', 'g', 'h']\n",
    "```"
   ]
  },
  {
   "cell_type": "code",
   "execution_count": 1,
   "metadata": {},
   "outputs": [
    {
     "name": "stdout",
     "output_type": "stream",
     "text": [
      "('Diana', 'Luck', 'Theo')\n",
      "['Diana', 'Luck', 'Theo']\n",
      "(7, 22, 4, 12, 7, 29)\n",
      "[4, 7, 7, 12, 22, 29]\n"
     ]
    }
   ],
   "source": [
    "lista_nomes = ('Diana','Luck','Theo')\n",
    "print(lista_nomes)\n",
    "print(sorted(lista_nomes))\n",
    "\n",
    "lista_nomes = (7, 22, 4, 12, 7, 29)\n",
    "print(lista_nomes)\n",
    "print(sorted(lista_nomes))"
   ]
  },
  {
   "cell_type": "markdown",
   "metadata": {},
   "source": [
    "**Exemplo10**<br>\n",
    ">Unindo tuplas:"
   ]
  },
  {
   "cell_type": "code",
   "execution_count": 2,
   "metadata": {},
   "outputs": [
    {
     "name": "stdout",
     "output_type": "stream",
     "text": [
      "(1, 2, 3, 4, 5, 6)\n",
      "(4, 5, 6, 1, 2, 3)\n"
     ]
    }
   ],
   "source": [
    "a = (1, 2, 3)\n",
    "b = (4, 5, 6)\n",
    "c_1 = a + b\n",
    "c_2 = b + a\n",
    "print(c_1)\n",
    "print(c_2)\n"
   ]
  },
  {
   "cell_type": "markdown",
   "metadata": {},
   "source": [
    "**Exemplo11**<br>\n",
    "```python\n",
    "#O método count() retorna o número de elementos com o valor especificado.\n",
    "fruits = [\"apple\", \"banana\", \"cherry\"]\n",
    "x = fruits.count(\"cherry\")\n",
    "print(x)\n",
    "1\n",
    "```"
   ]
  },
  {
   "cell_type": "code",
   "execution_count": 2,
   "metadata": {},
   "outputs": [
    {
     "name": "stdout",
     "output_type": "stream",
     "text": [
      "(7, 22, 4, 12, 7, 29)\n",
      "2\n",
      "('A', 'B', 'C', 'A', 'D', 'A')\n",
      "3\n"
     ]
    }
   ],
   "source": [
    "numeros = (7, 22, 4, 12, 7, 29)\n",
    "print(numeros)\n",
    "print(numeros.count(7))\n",
    "\n",
    "letras = ('A', 'B', 'C', 'A', 'D', 'A')\n",
    "print(letras)\n",
    "print(letras.count('A'))"
   ]
  },
  {
   "cell_type": "markdown",
   "metadata": {},
   "source": [
    "**Exemplo12**<br>\n",
    "```python\n",
    "#O método index() retorna a posição na primeira ocorrência do valor especificado.\n",
    "fruits = ['apple', 'banana', 'cherry']\n",
    "x = fruits.index(\"cherry\")\n",
    "print(x)\n",
    "2\n",
    "```"
   ]
  },
  {
   "cell_type": "code",
   "execution_count": 1,
   "metadata": {},
   "outputs": [
    {
     "name": "stdout",
     "output_type": "stream",
     "text": [
      "(7, 22, 4, 12, 7, 29)\n",
      "3\n",
      "('A', 'B', 'C', 'A', 'D', 'A')\n",
      "2\n",
      "0\n",
      "0\n",
      "3\n"
     ]
    }
   ],
   "source": [
    "numeros = (7, 22, 4, 12, 7, 29)\n",
    "print(numeros)\n",
    "print(numeros.index(12))\n",
    "\n",
    "letras = ('A', 'B', 'C', 'A', 'D', 'A')\n",
    "print(letras)\n",
    "print(letras.index('C'))\n",
    "print(letras.index('A'))\n",
    "print(letras.index('A'))\n",
    "print(letras.index('A', 1))"
   ]
  },
  {
   "cell_type": "markdown",
   "metadata": {},
   "source": [
    "**Exemplo13**<br>\n",
    ">É importante saber que as tuplas, apesar de serem muito parecidas com vetores, também aceitam dados de tipos primitivos diferentes. O que já não acontece em outras línguagem de programação"
   ]
  },
  {
   "cell_type": "code",
   "execution_count": 2,
   "metadata": {},
   "outputs": [
    {
     "name": "stdout",
     "output_type": "stream",
     "text": [
      "('Diana', 65.0, 'F', 27, 'Porto Alegre')\n"
     ]
    }
   ],
   "source": [
    "info = ('Diana', 65.0, 'F', 27, 'Porto Alegre')\n",
    "print(info)"
   ]
  },
  {
   "cell_type": "markdown",
   "metadata": {},
   "source": [
    ">Exemplo 14<br>\n",
    "TUPLAS são IMUTÁVEIS. Porém, há uma expressão que podem realizar de “mudança” com as tuplas, que seria APAGAR elas completamentamente usando o comando del()."
   ]
  },
  {
   "cell_type": "code",
   "execution_count": 3,
   "metadata": {},
   "outputs": [
    {
     "name": "stdout",
     "output_type": "stream",
     "text": [
      "('Diana', 65.0, 'F', 27, 'Porto Alegre')\n"
     ]
    },
    {
     "ename": "NameError",
     "evalue": "name 'pessoa' is not defined",
     "output_type": "error",
     "traceback": [
      "\u001b[0;31m---------------------------------------------------------------------------\u001b[0m",
      "\u001b[0;31mNameError\u001b[0m                                 Traceback (most recent call last)",
      "\u001b[0;32m<ipython-input-3-5ce12a7aaf9d>\u001b[0m in \u001b[0;36m<module>\u001b[0;34m\u001b[0m\n\u001b[1;32m      2\u001b[0m \u001b[0mprint\u001b[0m\u001b[0;34m(\u001b[0m\u001b[0mpessoa\u001b[0m\u001b[0;34m)\u001b[0m\u001b[0;34m\u001b[0m\u001b[0;34m\u001b[0m\u001b[0m\n\u001b[1;32m      3\u001b[0m \u001b[0;32mdel\u001b[0m\u001b[0;34m(\u001b[0m\u001b[0mpessoa\u001b[0m\u001b[0;34m)\u001b[0m\u001b[0;34m\u001b[0m\u001b[0;34m\u001b[0m\u001b[0m\n\u001b[0;32m----> 4\u001b[0;31m \u001b[0mprint\u001b[0m\u001b[0;34m(\u001b[0m\u001b[0mpessoa\u001b[0m\u001b[0;34m)\u001b[0m\u001b[0;34m\u001b[0m\u001b[0;34m\u001b[0m\u001b[0m\n\u001b[0m",
      "\u001b[0;31mNameError\u001b[0m: name 'pessoa' is not defined"
     ]
    }
   ],
   "source": [
    "pessoa = ('Diana', 65.0, 'F', 27, 'Porto Alegre')\n",
    "print(pessoa)\n",
    "del(pessoa)\n",
    "print(pessoa)"
   ]
  },
  {
   "cell_type": "markdown",
   "metadata": {},
   "source": [
    "**Exemplo15**<br>\n",
    ">Os operadores relacionais funcionam com tuplas e outras sequências; O Python começa comparando o primeiro elemento de cada sequência. Se forem iguais, vai para os próximos elementos, e assim por diante, até que encontre elementos que sejam diferentes. Os elementos subsequentes não são considerados (mesmo se forem muito grandes)."
   ]
  },
  {
   "cell_type": "code",
   "execution_count": 4,
   "metadata": {},
   "outputs": [
    {
     "name": "stdout",
     "output_type": "stream",
     "text": [
      "True\n"
     ]
    }
   ],
   "source": [
    "a = (0, 1, 2)\n",
    "b = (0, 3, 4)\n",
    "print(a < b)"
   ]
  },
  {
   "cell_type": "markdown",
   "metadata": {},
   "source": [
    "**Exemplo16**<br>\n",
    ">O exemplo a seguir é muito importante para que fique clara a diferença e, pricipalmente, como e quando usar for junto com tuplas."
   ]
  },
  {
   "cell_type": "code",
   "execution_count": 1,
   "metadata": {},
   "outputs": [
    {
     "name": "stdout",
     "output_type": "stream",
     "text": [
      "\u001b[033mTESTE 1 > Primeira forma\u001b[m\n",
      "0 1 2 3 4 5 \n",
      "\u001b[032mTESTE 2 > Segunda forma\u001b[m\n",
      "Caderno 12.5 Mochila 55.0 livro 21.9 \n",
      "\u001b[031mTESTE 3 > Terceira forma\u001b[m\n",
      " Produto:Caderno. Posição:0\n",
      " Produto:12.5. Posição:1\n",
      " Produto:Mochila. Posição:2\n",
      " Produto:55.0. Posição:3\n",
      " Produto:livro. Posição:4\n",
      " Produto:21.9. Posição:5\n"
     ]
    }
   ],
   "source": [
    "produtos = ('Caderno', 12.50, 'Mochila', 55.00, 'livro', 21.90)\n",
    "print(\"\\033[033mTESTE 1 > Primeira forma\\033[m\")\n",
    "for posicao in range (0, len((produtos))):\n",
    "    print(posicao, end=' ')\n",
    "    \n",
    "print(\"\\n\\033[032mTESTE 2 > Segunda forma\\033[m\")\n",
    "for produto in produtos:\n",
    "    print(produto, end=' ')\n",
    "    \n",
    "print(\"\\n\\033[031mTESTE 3 > Terceira forma\\033[m\")\n",
    "for posicao, produto in enumerate(produtos):\n",
    "    print(f' Produto:{produto}. Posição:{posicao}')"
   ]
  }
 ],
 "metadata": {
  "kernelspec": {
   "display_name": "Python 3",
   "language": "python",
   "name": "python3"
  },
  "language_info": {
   "codemirror_mode": {
    "name": "ipython",
    "version": 3
   },
   "file_extension": ".py",
   "mimetype": "text/x-python",
   "name": "python",
   "nbconvert_exporter": "python",
   "pygments_lexer": "ipython3",
   "version": "3.7.3"
  }
 },
 "nbformat": 4,
 "nbformat_minor": 2
}
