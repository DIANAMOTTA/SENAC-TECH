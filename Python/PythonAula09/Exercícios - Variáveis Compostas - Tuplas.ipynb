{
 "cells": [
  {
   "cell_type": "markdown",
   "metadata": {},
   "source": [
    "**1 - exercício**<br>\n",
    ">Crie um programa que tenha uma dupla totalmente preenchida com uma contagem por extenso, de zero até vinte. Seu programa deverá ler um número pelo teclado (entre 0 e 20) e mostrá-lo por extenso"
   ]
  },
  {
   "cell_type": "code",
   "execution_count": 5,
   "metadata": {},
   "outputs": [
    {
     "name": "stdout",
     "output_type": "stream",
     "text": [
      "Digite um número entre 0 e 20: 14\n",
      "Você digitou o número quartoze\n"
     ]
    }
   ],
   "source": [
    "cont = ('zero', 'um','dois', 'três', 'quatro','cinco', 'seis','sete','oito',\n",
    "        'nove', 'dez', 'onze', 'doze', 'treze','quartoze', 'quize', 'dezesseis',\n",
    "        'dezessete', 'dezoito', 'dezenove', 'vinte')\n",
    "while True:\n",
    "    num = int(input('Digite um número entre 0 e 20: '))\n",
    "    if 0 <= num <= 20:\n",
    "        break\n",
    "    print('Tente novamente. ', end='')\n",
    "print(f'Você digitou o número {cont[num]}')"
   ]
  },
  {
   "cell_type": "markdown",
   "metadata": {},
   "source": [
    "**2 - exercício**<br>\n",
    "Crie uma tupla preenchida com os 10 primeiros colocados da Tabela do Campeonato Brasileiro de Futebol, na ordem de colocação. Depois mostre:\n",
    "\n",
    "* a) Os 5 primeiros times.\n",
    "\n",
    "* b) Os últimos 4 colocados.\n",
    "\n",
    "* c) Times em ordem alfabética.\n",
    "\n",
    "* d) Em que posição está o time da Chapecoense."
   ]
  },
  {
   "cell_type": "code",
   "execution_count": 14,
   "metadata": {
    "scrolled": true
   },
   "outputs": [
    {
     "name": "stdout",
     "output_type": "stream",
     "text": [
      "=-==-==-==-==-==-==-==-==-==-==-==-==-==-==-==-==-==-==-==-==-==-==-==-==-==-==-==-==-==-=\n",
      "Lista de times: ('Palmeiras', 'Internacional', 'Fluminense', 'Corinthians', 'Flamengo', 'Athletico-PR', 'Atlético-MG', 'Fortaleza', 'São Paulo', 'América-MG', 'Botafogo', 'Chapecoense')\n",
      "=-==-==-==-==-==-==-==-==-==-==-==-==-==-==-==-==-==-==-==-==-==-==-==-==-==-==-==-==-==-=\n",
      "A -> Os cinco primeiros são ('Palmeiras', 'Internacional', 'Fluminense', 'Corinthians', 'Flamengo')\n",
      "=-==-==-==-==-==-==-==-==-==-==-==-==-==-==-==-==-==-==-==-==-==-==-==-==-==-==-==-==-==-=\n",
      "B -> Os últimos 4 colocados('São Paulo', 'América-MG', 'Botafogo', 'Chapecoense')\n",
      "=-==-==-==-==-==-==-==-==-==-==-==-==-==-==-==-==-==-==-==-==-==-==-==-==-==-==-==-==-==-=\n",
      "C -> Times em ordem alfabeticas['América-MG', 'Athletico-PR', 'Atlético-MG', 'Botafogo', 'Chapecoense', 'Corinthians', 'Flamengo', 'Fluminense', 'Fortaleza', 'Internacional', 'Palmeiras', 'São Paulo']\n",
      "=-==-==-==-==-==-==-==-==-==-==-==-==-==-==-==-==-==-==-==-==-==-==-==-==-==-==-==-==-==-=\n",
      "D -> Posição do Chapecoense 12ª posição\n"
     ]
    }
   ],
   "source": [
    "times = ('Palmeiras', 'Internacional', 'Fluminense', 'Corinthians','Flamengo',\n",
    "          'Athletico-PR','Atlético-MG','Fortaleza','São Paulo','América-MG','Botafogo',\n",
    "          'Chapecoense')\n",
    "print('=-='*30)\n",
    "print(f'Lista de times: {times}')\n",
    "print('=-='*30)\n",
    "print(f'A -> Os cinco primeiros são {times[0:5]}')\n",
    "print('=-='*30)\n",
    "print(f'B -> Os últimos 4 colocados{times[-4:]}')\n",
    "print('=-='*30)\n",
    "print(f'C -> Times em ordem alfabeticas{sorted(times)}')\n",
    "print('=-='*30)\n",
    "print(f'D -> Posição do Chapecoense {times.index(\"Chapecoense\")+1}ª posição')"
   ]
  },
  {
   "cell_type": "markdown",
   "metadata": {},
   "source": [
    "**3 - exercício**<br>\n",
    "Crie um programa que vai gerar cinco números aleatórios e colocar em uma tupla. Depois disso, mostre a listagem de números gerados e também indique o menor e o maior valor que estão na tupla."
   ]
  },
  {
   "cell_type": "code",
   "execution_count": 25,
   "metadata": {},
   "outputs": [
    {
     "name": "stdout",
     "output_type": "stream",
     "text": [
      "Os valores sorteados foram: 2 9 10 6 2\n",
      "O maior valor sorteado foi: 10\n",
      "O menor valor sorteado foi: 2\n"
     ]
    }
   ],
   "source": [
    "from random import randint\n",
    "numeros = (randint(1,10), randint(1,10),randint(1,10),\n",
    "     randint(1,10), randint(1,10))\n",
    "print(f'Os valores sorteados foram:', end='')\n",
    "for n in numeros:\n",
    "    print(f' {n}', end='')\n",
    "print(f'\\nO maior valor sorteado foi: {max(numeros)}')\n",
    "print(f'O menor valor sorteado foi: {min(numeros)}')"
   ]
  },
  {
   "cell_type": "markdown",
   "metadata": {},
   "source": [
    "**4 - exercicio**<br>\n",
    "Desenvolva um programa que leia quatro valores pelo teclado e guarde-os em uma tupla. No final, mostre:<br>\n",
    "* A) Quantas vezes apareceu o valor 9.<br>\n",
    "* B) Em que posição foi digitado o primeiro valor 3.<br>\n",
    "* C) Quais foram os números pares.<br>"
   ]
  },
  {
   "cell_type": "code",
   "execution_count": 30,
   "metadata": {},
   "outputs": [
    {
     "name": "stdout",
     "output_type": "stream",
     "text": [
      "Digite um número: 2\n",
      "Digite outro número: 3\n",
      "Digite mais um número: 9\n",
      "Digite o último número: 6\n",
      "Você digitou os valores (2, 3, 9, 6)\n",
      "O valor 9 apareceu 1 vezes\n",
      "O valor 3 apareceu na 2ª posição\n",
      "Os valores pares digitados foram: 2 6 "
     ]
    }
   ],
   "source": [
    "num = (int(input('Digite um número: ')),\n",
    "       int(input('Digite outro número: ')),\n",
    "       int(input('Digite mais um número: ')),\n",
    "       int(input('Digite o último número: ')))\n",
    "print(f'Você digitou os valores {num}')\n",
    "print(f'O valor 9 apareceu {num.count(9)} vezes')\n",
    "if 3 in num:\n",
    "    print(f'O valor 3 apareceu na {num.index(3)+1}ª posição')\n",
    "else:\n",
    "    print(f'O valor 3 não foi digitado em nenhuma posição')\n",
    "print('Os valores pares digitados foram: ', end='')\n",
    "for n in num:\n",
    "    if n % 2 == 0:\n",
    "        print(n, end=' ')"
   ]
  },
  {
   "cell_type": "markdown",
   "metadata": {},
   "source": [
    "**5 - exercício**<br>\n",
    ">Crie um programa que tenha uma tupla única com nomes de produtos e seus respectivos preços, na sequência. No final, mostre uma listagem de preços, organizando os dados em forma tabular."
   ]
  },
  {
   "cell_type": "code",
   "execution_count": 39,
   "metadata": {},
   "outputs": [
    {
     "name": "stdout",
     "output_type": "stream",
     "text": [
      "----------------------------------------\n",
      "           LISTAGEM DE PREÇOS           \n",
      "----------------------------------------\n",
      "lápis.........................R$   1.75\n",
      "Borracha......................R$   2.00\n",
      "Caderno.......................R$  15.90\n",
      "Estojo........................R$  25.00\n",
      "Transferirdor.................R$   4.20\n",
      "Compasso......................R$   9.99\n",
      "Mochila.......................R$ 120.00\n",
      "32............................"
     ]
    },
    {
     "ename": "ValueError",
     "evalue": "Unknown format code 'f' for object of type 'str'",
     "output_type": "error",
     "traceback": [
      "\u001b[0;31m---------------------------------------------------------------------------\u001b[0m",
      "\u001b[0;31mValueError\u001b[0m                                Traceback (most recent call last)",
      "\u001b[0;32m<ipython-input-39-06fa8ef4903d>\u001b[0m in \u001b[0;36m<module>\u001b[0;34m\u001b[0m\n\u001b[1;32m     15\u001b[0m           \u001b[0mprint\u001b[0m\u001b[0;34m(\u001b[0m\u001b[0;34mf'{listagem[pos]:.<30}'\u001b[0m\u001b[0;34m,\u001b[0m \u001b[0mend\u001b[0m\u001b[0;34m=\u001b[0m\u001b[0;34m''\u001b[0m\u001b[0;34m)\u001b[0m\u001b[0;34m\u001b[0m\u001b[0;34m\u001b[0m\u001b[0m\n\u001b[1;32m     16\u001b[0m     \u001b[0;32melse\u001b[0m\u001b[0;34m:\u001b[0m\u001b[0;34m\u001b[0m\u001b[0;34m\u001b[0m\u001b[0m\n\u001b[0;32m---> 17\u001b[0;31m           \u001b[0mprint\u001b[0m\u001b[0;34m(\u001b[0m\u001b[0;34mf'R${listagem[pos]:>7.2f}'\u001b[0m\u001b[0;34m)\u001b[0m\u001b[0;34m\u001b[0m\u001b[0;34m\u001b[0m\u001b[0m\n\u001b[0m\u001b[1;32m     18\u001b[0m \u001b[0mprint\u001b[0m\u001b[0;34m(\u001b[0m\u001b[0;34m'-'\u001b[0m\u001b[0;34m*\u001b[0m\u001b[0;36m40\u001b[0m\u001b[0;34m)\u001b[0m\u001b[0;34m\u001b[0m\u001b[0;34m\u001b[0m\u001b[0m\n\u001b[1;32m     19\u001b[0m \u001b[0;34m\u001b[0m\u001b[0m\n",
      "\u001b[0;31mValueError\u001b[0m: Unknown format code 'f' for object of type 'str'"
     ]
    }
   ],
   "source": [
    "listagem = ('lápis', 1.75,\n",
    "            'Borracha', 2,\n",
    "            'Caderno', 15.90,\n",
    "            'Estojo', 25,\n",
    "            'Transferirdor', 4.20,\n",
    "            'Compasso', 9.99,\n",
    "            'Mochila', 120,32,\n",
    "            'Canetas', 22.30,\n",
    "            'Livro', 34.90)\n",
    "print('-'*40)\n",
    "print(f'{\"LISTAGEM DE PREÇOS\":^40}')\n",
    "print('-'*40)\n",
    "for pos in range(0, len(listagem)):\n",
    "    if pos % 2 == 0:\n",
    "          print(f'{listagem[pos]:.<30}', end='')\n",
    "    else:\n",
    "          print(f'R${listagem[pos]:>7.2f}')\n",
    "print('-'*40)\n",
    "      "
   ]
  },
  {
   "cell_type": "markdown",
   "metadata": {},
   "source": [
    "**6 - exercício**<br>\n",
    ">Crie um programa que tenha uma tupla com várias palavras (não usar acentos). Depois disso, você deve mostrar, para cada palavra, quais são as suas vogais."
   ]
  },
  {
   "cell_type": "code",
   "execution_count": 51,
   "metadata": {},
   "outputs": [
    {
     "name": "stdout",
     "output_type": "stream",
     "text": [
      "\n",
      "Na palavra BOM DIA temos o i a \n",
      "Na palavra DIA LINDO temos i a i o \n",
      "Na palavra PROGRAMAR temos o a a \n",
      "Na palavra FUTURO temos u u o \n",
      "Na palavra PRATICAR temos a i a "
     ]
    }
   ],
   "source": [
    "palavras = ('Bom dia', 'Dia lindo', 'Programar', 'futuro', 'praticar')\n",
    "for p in palavras:\n",
    "    print(f'\\nNa palavra {p.upper()} temos ', end='')\n",
    "    for letra in p:\n",
    "        if letra.lower() in 'aeiou':\n",
    "            print(letra, end=' ')\n",
    "    "
   ]
  },
  {
   "cell_type": "code",
   "execution_count": null,
   "metadata": {},
   "outputs": [],
   "source": []
  }
 ],
 "metadata": {
  "kernelspec": {
   "display_name": "Python 3",
   "language": "python",
   "name": "python3"
  },
  "language_info": {
   "codemirror_mode": {
    "name": "ipython",
    "version": 3
   },
   "file_extension": ".py",
   "mimetype": "text/x-python",
   "name": "python",
   "nbconvert_exporter": "python",
   "pygments_lexer": "ipython3",
   "version": "3.7.3"
  }
 },
 "nbformat": 4,
 "nbformat_minor": 2
}
