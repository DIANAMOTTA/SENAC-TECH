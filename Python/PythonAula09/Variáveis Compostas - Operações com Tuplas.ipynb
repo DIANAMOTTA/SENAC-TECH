{
 "cells": [
  {
   "cell_type": "markdown",
   "metadata": {},
   "source": [
    "**Variáveis Compostas**\n",
    ">Operações com Tuplas:\n",
    "    "
   ]
  },
  {
   "cell_type": "code",
   "execution_count": 1,
   "metadata": {
    "scrolled": true
   },
   "outputs": [
    {
     "name": "stdout",
     "output_type": "stream",
     "text": [
      "('Diana', 'Luck', 'Theo')\n",
      "Theo\n"
     ]
    }
   ],
   "source": [
    "lista = ('Diana', 'Luck', 'Theo')\n",
    "print(lista)\n",
    "print(lista[2])"
   ]
  },
  {
   "cell_type": "markdown",
   "metadata": {},
   "source": [
    "**Exemplo02**"
   ]
  },
  {
   "cell_type": "code",
   "execution_count": 3,
   "metadata": {
    "scrolled": true
   },
   "outputs": [
    {
     "name": "stdout",
     "output_type": "stream",
     "text": [
      "('Diana', 'Luck', 'Theo')\n",
      "('Diana', 'Luck')\n"
     ]
    }
   ],
   "source": [
    "lista = ('Diana', 'Luck', 'Theo')\n",
    "print(lista)\n",
    "print(lista[0:2])"
   ]
  },
  {
   "cell_type": "markdown",
   "metadata": {},
   "source": [
    "**Exemplo03**"
   ]
  },
  {
   "cell_type": "code",
   "execution_count": 4,
   "metadata": {},
   "outputs": [
    {
     "name": "stdout",
     "output_type": "stream",
     "text": [
      "('Diana', 'Luck', 'Theo')\n",
      "('Luck', 'Theo')\n"
     ]
    }
   ],
   "source": [
    "lista = ('Diana', 'Luck', 'Theo')\n",
    "print(lista)\n",
    "print(lista[1:])"
   ]
  },
  {
   "cell_type": "markdown",
   "metadata": {},
   "source": [
    "**Exemplo04**"
   ]
  },
  {
   "cell_type": "code",
   "execution_count": 5,
   "metadata": {},
   "outputs": [
    {
     "name": "stdout",
     "output_type": "stream",
     "text": [
      "('Diana', 'Luck', 'Theo')\n",
      "Theo\n"
     ]
    }
   ],
   "source": [
    "lista = ('Diana', 'Luck', 'Theo')\n",
    "print(lista)\n",
    "print(lista[-1])"
   ]
  },
  {
   "cell_type": "markdown",
   "metadata": {},
   "source": [
    "**Exemplo05**"
   ]
  },
  {
   "cell_type": "code",
   "execution_count": 6,
   "metadata": {},
   "outputs": [
    {
     "name": "stdout",
     "output_type": "stream",
     "text": [
      "('Diana', 'Luck', 'Theo')\n",
      "3\n"
     ]
    }
   ],
   "source": [
    "lista = ('Diana', 'Luck', 'Theo')\n",
    "print(lista)\n",
    "print(len(lista))"
   ]
  },
  {
   "cell_type": "markdown",
   "metadata": {},
   "source": [
    "**Exemplo06**"
   ]
  },
  {
   "cell_type": "code",
   "execution_count": 7,
   "metadata": {},
   "outputs": [
    {
     "name": "stdout",
     "output_type": "stream",
     "text": [
      "('Diana', 'Luck', 'Theo')\n",
      "Diana\n",
      "Luck\n",
      "Theo\n"
     ]
    }
   ],
   "source": [
    "lista = ('Diana', 'Luck', 'Theo')\n",
    "print(lista)\n",
    "for pessoa in lista:\n",
    "    print(pessoa)"
   ]
  },
  {
   "cell_type": "markdown",
   "metadata": {},
   "source": [
    "**Exemplo07**"
   ]
  },
  {
   "cell_type": "code",
   "execution_count": 8,
   "metadata": {},
   "outputs": [
    {
     "name": "stdout",
     "output_type": "stream",
     "text": [
      "('Diana', 'Luck', 'Theo')\n",
      "Diana\n",
      "Luck\n",
      "Theo\n"
     ]
    }
   ],
   "source": [
    "lista = ('Diana', 'Luck', 'Theo')\n",
    "print(lista)\n",
    "for contador in range(0, len(lista)):\n",
    "    print(lista[contador])"
   ]
  },
  {
   "cell_type": "markdown",
   "metadata": {},
   "source": [
    "**Exemplo08**"
   ]
  },
  {
   "cell_type": "code",
   "execution_count": 10,
   "metadata": {},
   "outputs": [
    {
     "name": "stdout",
     "output_type": "stream",
     "text": [
      "('Diana', 'Luck', 'Theo')\n",
      "Diana está na posição 0 da tupla!\n",
      "Luck está na posição 1 da tupla!\n",
      "Theo está na posição 2 da tupla!\n"
     ]
    }
   ],
   "source": [
    "lista = ('Diana', 'Luck', 'Theo')\n",
    "print(lista)\n",
    "for posicao, pessoa in enumerate(lista):\n",
    "    print(f\"{pessoa} está na posição {posicao} da tupla!\")"
   ]
  },
  {
   "cell_type": "code",
   "execution_count": null,
   "metadata": {},
   "outputs": [],
   "source": []
  }
 ],
 "metadata": {
  "kernelspec": {
   "display_name": "Python 3",
   "language": "python",
   "name": "python3"
  },
  "language_info": {
   "codemirror_mode": {
    "name": "ipython",
    "version": 3
   },
   "file_extension": ".py",
   "mimetype": "text/x-python",
   "name": "python",
   "nbconvert_exporter": "python",
   "pygments_lexer": "ipython3",
   "version": "3.7.3"
  }
 },
 "nbformat": 4,
 "nbformat_minor": 2
}
