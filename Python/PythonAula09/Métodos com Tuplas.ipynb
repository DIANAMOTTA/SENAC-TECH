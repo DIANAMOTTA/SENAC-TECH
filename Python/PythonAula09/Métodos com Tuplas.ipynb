{
 "cells": [
  {
   "cell_type": "markdown",
   "metadata": {},
   "source": [
    "Exemplo09<br>\n",
    "Método --> .sorted():"
   ]
  },
  {
   "cell_type": "code",
   "execution_count": 1,
   "metadata": {},
   "outputs": [
    {
     "name": "stdout",
     "output_type": "stream",
     "text": [
      "('Diana', 'Luck', 'Theo')\n",
      "['Diana', 'Luck', 'Theo']\n",
      "(7, 22, 4, 12, 7, 29)\n",
      "[4, 7, 7, 12, 22, 29]\n"
     ]
    }
   ],
   "source": [
    "lista_nomes = ('Diana','Luck','Theo')\n",
    "print(lista_nomes)\n",
    "print(sorted(lista_nomes))\n",
    "\n",
    "lista_nomes = (7, 22, 4, 12, 7, 29)\n",
    "print(lista_nomes)\n",
    "print(sorted(lista_nomes))"
   ]
  },
  {
   "cell_type": "markdown",
   "metadata": {},
   "source": [
    "Exemplo10<br>\n",
    "Unindo tuplas:"
   ]
  },
  {
   "cell_type": "code",
   "execution_count": 2,
   "metadata": {},
   "outputs": [
    {
     "name": "stdout",
     "output_type": "stream",
     "text": [
      "(1, 2, 3, 4, 5, 6)\n",
      "(4, 5, 6, 1, 2, 3)\n"
     ]
    }
   ],
   "source": [
    "a = (1, 2, 3)\n",
    "b = (4, 5, 6)\n",
    "c_1 = a + b\n",
    "c_2 = b + a\n",
    "print(c_1)\n",
    "print(c_2)\n"
   ]
  },
  {
   "cell_type": "markdown",
   "metadata": {},
   "source": [
    "Exemplo11<br>\n",
    ".count():"
   ]
  },
  {
   "cell_type": "code",
   "execution_count": 3,
   "metadata": {},
   "outputs": [
    {
     "name": "stdout",
     "output_type": "stream",
     "text": [
      "(7, 22, 4, 12, 7, 29)\n",
      "2\n",
      "('A', 'B', 'C', 'A', 'D', 'A')\n",
      "3\n"
     ]
    }
   ],
   "source": [
    "numeros = (7, 22, 4, 12, 7, 29)\n",
    "print(numeros)\n",
    "print(numeros.count(7))\n",
    "\n",
    "letras = ('A', 'B', 'C', 'A', 'D', 'A')\n",
    "print(letras)\n",
    "print(letras.count('A'))"
   ]
  },
  {
   "cell_type": "markdown",
   "metadata": {},
   "source": [
    "Exemplo12<br>\n",
    ".index():"
   ]
  },
  {
   "cell_type": "code",
   "execution_count": 4,
   "metadata": {},
   "outputs": [
    {
     "name": "stdout",
     "output_type": "stream",
     "text": [
      "(7, 22, 4, 12, 7, 29)\n",
      "3\n",
      "('A', 'B', 'C', 'A', 'D', 'A')\n",
      "2\n",
      "0\n",
      "0\n",
      "3\n"
     ]
    }
   ],
   "source": [
    "numeros = (7, 22, 4, 12, 7, 29)\n",
    "print(numeros)\n",
    "print(numeros.index(12))\n",
    "\n",
    "letras = ('A', 'B', 'C', 'A', 'D', 'A')\n",
    "print(letras)\n",
    "print(letras.index('C'))\n",
    "print(letras.index('A'))\n",
    "print(letras.index('A'))\n",
    "print(letras.index('A', 1))"
   ]
  },
  {
   "cell_type": "code",
   "execution_count": null,
   "metadata": {},
   "outputs": [],
   "source": []
  }
 ],
 "metadata": {
  "kernelspec": {
   "display_name": "Python 3",
   "language": "python",
   "name": "python3"
  },
  "language_info": {
   "codemirror_mode": {
    "name": "ipython",
    "version": 3
   },
   "file_extension": ".py",
   "mimetype": "text/x-python",
   "name": "python",
   "nbconvert_exporter": "python",
   "pygments_lexer": "ipython3",
   "version": "3.7.3"
  }
 },
 "nbformat": 4,
 "nbformat_minor": 2
}
