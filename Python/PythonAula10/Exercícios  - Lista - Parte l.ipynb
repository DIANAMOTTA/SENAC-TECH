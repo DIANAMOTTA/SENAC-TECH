{
 "cells": [
  {
   "cell_type": "markdown",
   "metadata": {},
   "source": [
    "[Exercício 1]<br> [DESAFIO] Escreva um programa que leia 5 valores e guarde-os dentro de uma lista. No final, mostre qual foi o maior e o menor valor digitado e as suas respectivas posições na lista."
   ]
  },
  {
   "cell_type": "code",
   "execution_count": 11,
   "metadata": {},
   "outputs": [
    {
     "name": "stdout",
     "output_type": "stream",
     "text": [
      "Digite um valor para a posição 0: 1\n",
      "Digite um valor para a posição 1: 4\n",
      "Digite um valor para a posição 2: 7\n",
      "Digite um valor para a posição 3: 8\n",
      "Digite um valor para a posição 4: 5\n",
      "Os valores digitados foram: [1, 4, 7, 8, 5]\n",
      "O maior valor digitado foi: 8 nas posições,   3..\n",
      "E o menor valor digitado foi: 1 nas posições 0..\n"
     ]
    }
   ],
   "source": [
    "valores = list()\n",
    "maior = menor = 0\n",
    "for c in range(0,5):\n",
    "    #O append()método acrescenta um elemento ao final da lista.\n",
    "    valores.append(int(input(f'Digite um valor para a posição {c}: ' )))\n",
    "    if c == 0:\n",
    "        maior = menor =valores[c]\n",
    "    else:\n",
    "        if valores[c] > maior:\n",
    "            maior = valores[c]\n",
    "        if valores[c] < menor:\n",
    "            menor = valores[c]     \n",
    "print(f'Os valores digitados foram {valores}')\n",
    "print(f'O maior valor digitado foi {maior} nas posições,  ', end='')\n",
    "# O enumerate()função pega uma coleção (por exemplo, uma tupla) e a retorna como um objeto enumerado.\n",
    "for i, v in enumerate(valores):\n",
    "    if v == maior:\n",
    "        print(f' {i}..', end='')\n",
    "print()\n",
    "print(f'E o menor valor digitado foi: {menor} nas posições ', end='')\n",
    "for i, v in enumerate(valores):\n",
    "    if v == menor:\n",
    "        print(f'{i}..', end='')\n",
    "print()\n"
   ]
  },
  {
   "cell_type": "markdown",
   "metadata": {},
   "source": [
    "[Exercício 2]<br> Escreva um programa que o usuário escreverá vários valores  numéricos e cadastre-os em uma lista. Caso o número já exista lá dentro, ele não será adicionado. No final, serão exibidos todos os valores únicos digitados, e em ordem crescente."
   ]
  },
  {
   "cell_type": "code",
   "execution_count": 4,
   "metadata": {
    "scrolled": true
   },
   "outputs": [
    {
     "name": "stdout",
     "output_type": "stream",
     "text": [
      "Digite um valor inteiro: 5\n",
      "Valor adicionado com sucesso!\n",
      "Deseja continuar? [S/N] s\n",
      "Digite um valor inteiro: 6\n",
      "Valor adicionado com sucesso!\n",
      "Deseja continuar? [S/N] s\n",
      "Digite um valor inteiro: 5\n",
      "valor duplicado! digite outro.\n",
      "Deseja continuar? [S/N] s7\n",
      "Digite um valor inteiro: 7\n",
      "Valor adicionado com sucesso!\n",
      "Deseja continuar? [S/N] s\n",
      "Digite um valor inteiro: 4\n",
      "Valor adicionado com sucesso!\n",
      "Deseja continuar? [S/N] n\n",
      "Você digitou os valores [4, 5, 6, 7]\n"
     ]
    }
   ],
   "source": [
    "valores = []\n",
    "while True:\n",
    "    n = int(input('Digite um valor inteiro: '))\n",
    "    if n not in valores:\n",
    "        valores.append(n)\n",
    "        print('Valor adicionado com sucesso!')\n",
    "    else:\n",
    "        print('valor duplicado! digite outro.')\n",
    "    resposta = str(input('Deseja continuar? [S/N] ')).strip().upper()[0]\n",
    "    if resposta in  'N':\n",
    "        break\n",
    "valores.sort()\n",
    "print(f'Você digitou os valores {valores}')"
   ]
  },
  {
   "cell_type": "markdown",
   "metadata": {},
   "source": [
    "[Exercício 3]<br> Escreva um programa que o user digite 5 valores numéricos e cadastre-os em uma lista, já na posição correta de inserção (SEM USAR O sort()). No final, mostre a lista ordenada na tela."
   ]
  },
  {
   "cell_type": "code",
   "execution_count": 17,
   "metadata": {},
   "outputs": [
    {
     "name": "stdout",
     "output_type": "stream",
     "text": [
      "Digite um valor: 8\n",
      "Adicionado ao final da lista\n",
      "Digite um valor: 1\n",
      "Adicionado na posição 0 da lista..\n",
      "Digite um valor: 7\n",
      "Adicionado na posição 1 da lista..\n",
      "Digite um valor: 10\n",
      "Adicionado ao final da lista\n",
      "Digite um valor: 0\n",
      "Adicionado na posição 0 da lista..\n",
      "Os valores digitados em ordem foram [0, 1, 7, 8, 10]\n"
     ]
    }
   ],
   "source": [
    "lista = []\n",
    "for c in range(0, 5):\n",
    "    n = int(input('Digite um valor: '))\n",
    "    if c == 0 or n > lista[-1]:\n",
    "        lista.append(n)\n",
    "        print('Adicionado ao final da lista')\n",
    "    else:\n",
    "        pos = 0\n",
    "        while pos < len(lista):\n",
    "            if n <= lista[pos]:\n",
    "                lista.insert(pos, n)\n",
    "                print(f'Adicionado na posição {pos} da lista..')\n",
    "                break\n",
    "            pos += 1\n",
    "print(f'Os valores digitados em ordem foram {lista}')"
   ]
  },
  {
   "cell_type": "markdown",
   "metadata": {},
   "source": [
    "[Exercício 4]<br>Escreva um programa que vai ler vários valores numéricos e colocar eles em uma lista. No final, mostre:\n",
    "* 1) Quantos números foram digitados;\n",
    "* 2) A lista de valores digitados, ordenada de forma crescente;\n",
    "* 3) Se o valor 5 foi digitado e está ou não na lista."
   ]
  },
  {
   "cell_type": "code",
   "execution_count": 3,
   "metadata": {},
   "outputs": [
    {
     "name": "stdout",
     "output_type": "stream",
     "text": [
      "Digite um valor: 4\n",
      "Deseja continuar? [S/N]s\n",
      "Digite um valor: 9\n",
      "Deseja continuar? [S/N]s\n",
      "Digite um valor: 2\n",
      "Deseja continuar? [S/N]s4\n",
      "Digite um valor: 6\n",
      "Deseja continuar? [S/N]s\n",
      "Digite um valor: 7\n",
      "Deseja continuar? [S/N]n\n",
      "Você digitou 5 elementos. \n",
      "Os valores em ordem decrescente são [9, 7, 6, 4, 2]\n",
      "O valor 5 não fa parte da lista\n"
     ]
    }
   ],
   "source": [
    "valores = []\n",
    "while True:\n",
    "    valores.append(int(input('Digite um valor: ')))\n",
    "    resposta = str(input('Deseja continuar? [S/N]')).strip().upper()\n",
    "    if resposta in 'N':\n",
    "        break\n",
    "print(f'Você digitou {len(valores)} elementos. ')\n",
    "valores.sort(reverse=True)\n",
    "print(f'Os valores em ordem decrescente são {valores}')\n",
    "if 5 in valores:\n",
    "    print('O valor 5 faz parte da lista.')\n",
    "else:\n",
    "    print('O valor 5 não faz parte da lista')"
   ]
  },
  {
   "cell_type": "markdown",
   "metadata": {},
   "source": [
    "[Exercício 5]<br>Escreva um programa que vai **ler vários valores numéricos** e colocá-los em uma **lista**. Depois disse,\n",
    "* crie **duas listas** extras que vão conter apenas os valores **pares e ímpares** digitados, respectivamente.\n",
    "* No final, **mostre as 3 listas**.\n",
    "* Caso a lista esteja vazia, informe isso ao usuário."
   ]
  },
  {
   "cell_type": "code",
   "execution_count": 8,
   "metadata": {
    "scrolled": true
   },
   "outputs": [
    {
     "name": "stdout",
     "output_type": "stream",
     "text": [
      "Digite um valor: 5\n",
      "Deseja continuar? [S/N]s\n",
      "Digite um valor: 4\n",
      "Deseja continuar? [S/N]s\n",
      "Digite um valor: 9\n",
      "Deseja continuar? [S/N]a\n",
      "RESPOSTA INVÁLIDA! \n",
      "Deseja continuar? [S/N]n\n",
      "A lista completa é [5, 4, 9]\n",
      "A lista de pares é [4]\n",
      "A lista de impares é [5, 9]\n"
     ]
    }
   ],
   "source": [
    "valores = []\n",
    "pares = []\n",
    "impares = []\n",
    "while True:\n",
    "    valores.append(int(input('Digite um valor: ')))\n",
    "    \n",
    "    resposta =str(input('Deseja continuar? [S/N]')).strip().upper()[0]\n",
    "    \n",
    "    while resposta not in 'SN':\n",
    "        resposta = str(input('\\033[031mRESPOSTA INVÁLIDA!\\033[m \\nDeseja continuar? [S/N]')).strip().upper()[0]\n",
    "    if resposta == 'N':\n",
    "        break\n",
    "for i, v in enumerate(valores):\n",
    "    if v % 2 == 0:\n",
    "        pares.append(v)\n",
    "    elif v %2 == 1:\n",
    "        impares.append(v)\n",
    "print(f'A lista completa é {valores}')\n",
    "print(f'A lista de pares é {pares}')\n",
    "print(f'A lista de impares é {impares}')"
   ]
  },
  {
   "cell_type": "markdown",
   "metadata": {},
   "source": [
    "[Exercício 6]<br>[DESAFIO] Escreva um programa que o usuário digite uma **expressão** matemática qualquer que use **parênteses**.\n",
    "* Seu aplicativo deverá analisar se a expressão passada está com os parênteses abertos e fechados na ordem correta."
   ]
  },
  {
   "cell_type": "code",
   "execution_count": null,
   "metadata": {},
   "outputs": [],
   "source": []
  },
  {
   "cell_type": "code",
   "execution_count": null,
   "metadata": {},
   "outputs": [],
   "source": []
  },
  {
   "cell_type": "code",
   "execution_count": 1,
   "metadata": {},
   "outputs": [
    {
     "name": "stdout",
     "output_type": "stream",
     "text": [
      "Digiter uma expressão: (x(y(z))\n",
      "Sua expressão está errada!\n"
     ]
    }
   ],
   "source": [
    "expressao = str(input('Digiter uma expressão: ')).upper().strip()\n",
    "pilha = []\n",
    "for simbolo in expressao:\n",
    "    if simbolo == '(':\n",
    "        pilha.append('(')\n",
    "    elif simbolo == ')':\n",
    "        if len(pilha) > 0:\n",
    "            pilha.pop()\n",
    "        else:\n",
    "            pilha.append(')')\n",
    "            break\n",
    "if len(pilha) == 0:\n",
    "    print('Sua expressão está válida!')\n",
    "else:\n",
    "    print('Sua expressão está errada!')"
   ]
  },
  {
   "cell_type": "code",
   "execution_count": null,
   "metadata": {},
   "outputs": [],
   "source": []
  },
  {
   "cell_type": "code",
   "execution_count": 2,
   "metadata": {},
   "outputs": [
    {
     "name": "stdout",
     "output_type": "stream",
     "text": [
      "0\n",
      "1\n",
      "2\n",
      "3\n",
      "4\n",
      "Done!\n"
     ]
    }
   ],
   "source": [
    "for i in range(5):\n",
    "    print(i)\n",
    "else:\n",
    "    print(\"Done!\")"
   ]
  },
  {
   "cell_type": "code",
   "execution_count": 4,
   "metadata": {},
   "outputs": [
    {
     "name": "stdout",
     "output_type": "stream",
     "text": [
      "a\n"
     ]
    }
   ],
   "source": [
    "x = 18\n",
    "if x > 10:\n",
    "    if x > 15:\n",
    "        print('a')\n",
    "    else:\n",
    "        print('b')\n",
    "else:\n",
    "     print('c')\n",
    "    "
   ]
  },
  {
   "cell_type": "code",
   "execution_count": 6,
   "metadata": {},
   "outputs": [],
   "source": []
  },
  {
   "cell_type": "code",
   "execution_count": 9,
   "metadata": {},
   "outputs": [
    {
     "name": "stdout",
     "output_type": "stream",
     "text": [
      "31\n"
     ]
    }
   ],
   "source": [
    "x = 5 \n",
    "y = 1 + (20 if x < 5 else 30)\n",
    "print(y)"
   ]
  },
  {
   "cell_type": "code",
   "execution_count": null,
   "metadata": {},
   "outputs": [],
   "source": []
  }
 ],
 "metadata": {
  "kernelspec": {
   "display_name": "Python 3",
   "language": "python",
   "name": "python3"
  },
  "language_info": {
   "codemirror_mode": {
    "name": "ipython",
    "version": 3
   },
   "file_extension": ".py",
   "mimetype": "text/x-python",
   "name": "python",
   "nbconvert_exporter": "python",
   "pygments_lexer": "ipython3",
   "version": "3.7.3"
  }
 },
 "nbformat": 4,
 "nbformat_minor": 2
}
