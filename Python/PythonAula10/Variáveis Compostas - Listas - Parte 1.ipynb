{
 "cells": [
  {
   "cell_type": "markdown",
   "metadata": {},
   "source": [
    "<img src=\"https://cdn.jsdelivr.net/gh/devicons/devicon/icons/python/python-original.svg\" width=\"40\" height=\"40\">\n",
    "\n",
    "### Variáveis compostas – Listas[ ] Parte l<br>\n",
    "Tuplas e Lista são muito similares. Da mesma forma como tuplas armazenam vários valores, listas também. Porém, a vantagem que a lista traz é a capacidade de alterar um valor dentro do seu armazenamento."
   ]
  },
  {
   "cell_type": "markdown",
   "metadata": {},
   "source": [
    "**Exemplo01**"
   ]
  },
  {
   "cell_type": "code",
   "execution_count": 1,
   "metadata": {},
   "outputs": [
    {
     "name": "stdout",
     "output_type": "stream",
     "text": [
      "[1, 2, 3]\n",
      "[1, 2, 0]\n"
     ]
    }
   ],
   "source": [
    "nomes = [1, 2, 3]\n",
    "print(nomes)\n",
    "nomes[2] = 0\n",
    "print(nomes)"
   ]
  },
  {
   "cell_type": "markdown",
   "metadata": {},
   "source": [
    "<img src=\"https://cdn.jsdelivr.net/gh/devicons/devicon/icons/python/python-original.svg\" width=\"40\" height=\"40\">\n",
    "\n",
    "### ADICIONANDO ELEMENTOS À UMA LISTA<p>\n",
    "**.append()**<br>\n",
    "Tuplas eram imutáveis até no seu tamanho. Uma vez que o usuário definiu a tupla, não era possível adicionar nenhum valor nela, visto que o tamanha era inalterável. Contudo, lista nos permitem fazer isso usando o método<p>\n",
    "```python\n",
    "    #O método append() acrescenta um elemento ao final da lista.\n",
    "a = [\"Diana\", \"banana\", \"cherry\"]\n",
    "b = [\"Ford\", \"BMW\", \"Volvo\"]\n",
    "a.append(b)\n",
    "print(a)\n",
    "```\n",
    "['Diana', 'banana', 'cherry', ['Ford', 'BMW', 'Volvo']"
   ]
  },
  {
   "cell_type": "markdown",
   "metadata": {},
   "source": [
    "**Exemplo02**<p>\n",
    "* Lista também podem ser mistas. Ou seja, conter string e númericos como tipos primitivos ao mesmo tempo;<br> \n",
    "* Todos os valores adicionados, seguindo a forma mostrada nos exemplos, vão automáticamente para o final da lista.<br>\n",
    "**.append()**\n",
    "\n",
    "```python \n",
    "#O método .append() aceita apenas um valor como argumento;\n",
    "fruits = ['apple', 'banana', 'cherry']\n",
    "fruits.append(\"orange\")\n",
    "['apple', 'banana', 'cherry', 'orange']\n",
    "```\n",
    "    "
   ]
  },
  {
   "cell_type": "code",
   "execution_count": 2,
   "metadata": {},
   "outputs": [
    {
     "name": "stdout",
     "output_type": "stream",
     "text": [
      "[1, 2, 3]\n",
      "[1, 2, 3, 4]\n",
      "['Diana', 30]\n",
      "['Diana', 30, 'Theo']\n",
      "['Diana', 30, 'Theo', 27]\n"
     ]
    }
   ],
   "source": [
    "numeros = [1, 2, 3]\n",
    "print(numeros)\n",
    "numeros.append(4)\n",
    "print(numeros)\n",
    "\n",
    "\n",
    "pessoas = ['Diana', 30]\n",
    "print(pessoas)\n",
    "pessoas.append('Theo')\n",
    "print(pessoas)\n",
    "pessoas.append(27)\n",
    "print(pessoas)\n"
   ]
  },
  {
   "cell_type": "markdown",
   "metadata": {},
   "source": [
    "**.insert():**\n",
    "\n",
    "```python\n",
    "#O método insert() insere o valor especificado na posição especificada.\n",
    "fruits = ['apple', 'banana', 'cherry']\n",
    "fruits.insert(1, \"orange\")\n",
    "print(fruits)\n",
    "\n",
    "['apple', 'orange', 'banana', 'cherry']\n",
    "```"
   ]
  },
  {
   "cell_type": "markdown",
   "metadata": {},
   "source": [
    "**Exemplo03**<br>\n",
    "**.insert():**\n",
    "* É possível também adicionar novos valores em uma posição à sua escolha usando o método"
   ]
  },
  {
   "cell_type": "code",
   "execution_count": 3,
   "metadata": {
    "scrolled": true
   },
   "outputs": [
    {
     "name": "stdout",
     "output_type": "stream",
     "text": [
      "['Diana', 'Lisiane', 'Theo']\n",
      "['Familia', 'Diana', 'Lisiane', 'Theo']\n"
     ]
    }
   ],
   "source": [
    "pessoas = ['Diana', 'Lisiane', 'Theo']\n",
    "print(pessoas)\n",
    "pessoas.insert(0,'Familia')\n",
    "print(pessoas)"
   ]
  },
  {
   "cell_type": "markdown",
   "metadata": {},
   "source": [
    "<img src=\"https://cdn.jsdelivr.net/gh/devicons/devicon/icons/python/python-original.svg\" width=\"40\" height=\"40\">\n",
    "\n",
    "**ELIMINANDO VALORES DE UMA LISTA**<br>\n",
    "**Exemplo04**<br>\n",
    "**del**\n",
    "\n",
    "```python\n",
    "#A palavra del remove o índice especificado:\n",
    "pessoas = ['Diana', 'Lisiane', 'Theo']\n",
    "print(pessoas)\n",
    "del pessoas[1]\n",
    "print(pessoas)\n",
    "['Diana', 'Lisiane', 'Theo']\n",
    "['Diana', 'Theo']\n",
    "```\n",
    "**Exemplo05**<br>\n",
    "**.pop():**\n",
    "```python\n",
    "#O método pop() remove o índice especificado.\n",
    "pessoas = ['Diana', 'Lisiane', 'Theo']\n",
    "print(pessoas)\n",
    "removido = pessoas.pop(0)\n",
    "print(pessoas)\n",
    "print(removido)\n",
    "['Diana', 'Lisiane', 'Theo']\n",
    "['Lisiane', 'Theo']\n",
    "Diana\n",
    "\n",
    "#OBS: Se você não especificar o índice, o pop()método remove o último item.\n",
    "```\n",
    "\n",
    "**Exemplo06**<br>\n",
    "**.remove():**\n",
    "```python\n",
    "#O método remove() remove o item especificado.\n",
    "thislist = [\"apple\", \"banana\", \"cherry\"]\n",
    "thislist.remove(\"banana\")\n",
    "print(thislist)\n",
    "['apple', 'cherry']\n",
    "```\n",
    "\n",
    "* Usando o método .remove(), passamos como parâmetro o conteúdo que queremos remover.\n",
    "* Se tertarmos remover um índice que não existe? A linguagem retorna um ERRO. Então, a melhor solução para esse problema é usar a estrutura if.\n",
    "\n",
    "**Exemplo07**"
   ]
  },
  {
   "cell_type": "code",
   "execution_count": 5,
   "metadata": {},
   "outputs": [
    {
     "name": "stdout",
     "output_type": "stream",
     "text": [
      "['Diana', 'Lisiane', 'Lucky']\n",
      "['Lisiane', 'Lucky']\n"
     ]
    }
   ],
   "source": [
    "pessoas = ['Diana', 'Lisiane','Lucky']\n",
    "print(pessoas)\n",
    "if 'Diana' in pessoas:\n",
    "    pessoas.remove('Diana')\n",
    "\n",
    "    print(pessoas)"
   ]
  },
  {
   "cell_type": "markdown",
   "metadata": {},
   "source": [
    "<img src=\"https://cdn.jsdelivr.net/gh/devicons/devicon/icons/python/python-original.svg\" width=\"40\" height=\"40\">\n",
    "\n",
    "**GERANDO LISTAS**<br>\n",
    "**range()**\n",
    "```python\n",
    "#A função range() retorna uma sequência de números, começando em 0 por padrão e incrementando em 1 (por padrão) e para antes de um número especificado.\n",
    "x = range(6)\n",
    "for n in x:\n",
    "  print(n, end='')\n",
    "0 1 2 3 4 5\n",
    "```\n",
    "\n",
    "**Exemplo08**"
   ]
  },
  {
   "cell_type": "code",
   "execution_count": 6,
   "metadata": {},
   "outputs": [
    {
     "name": "stdout",
     "output_type": "stream",
     "text": [
      "[4, 5, 6, 7, 8, 9, 10]\n"
     ]
    }
   ],
   "source": [
    "valores = list(range(4,11))\n",
    "print(valores)"
   ]
  },
  {
   "cell_type": "markdown",
   "metadata": {},
   "source": [
    "**Exemplo09**\n",
    "```python\n",
    "#O método sort() classifica a lista em ordem crescente por padrão.\n",
    "cars = ['Ford', 'BMW', 'Volvo']\n",
    "cars.sort()\n",
    "print(cars)\n",
    "\n",
    "['BMW', 'Ford', 'Volvo']\n",
    "```"
   ]
  },
  {
   "cell_type": "code",
   "execution_count": 8,
   "metadata": {
    "scrolled": true
   },
   "outputs": [
    {
     "name": "stdout",
     "output_type": "stream",
     "text": [
      "[8, 2, 5, 4, 9, 3, 0]\n",
      "[0, 2, 3, 4, 5, 8, 9]\n"
     ]
    }
   ],
   "source": [
    "valores = [8, 2, 5, 4, 9, 3, 0]\n",
    "print(valores)\n",
    "valores.sort()\n",
    "print(valores)"
   ]
  },
  {
   "cell_type": "markdown",
   "metadata": {},
   "source": [
    "**Exemplo10**<br>\n",
    "* reverse ordene a lista decrescente:"
   ]
  },
  {
   "cell_type": "code",
   "execution_count": 10,
   "metadata": {},
   "outputs": [
    {
     "name": "stdout",
     "output_type": "stream",
     "text": [
      "[8, 2, 5, 4, 9, 3, 0]\n",
      "[9, 8, 5, 4, 3, 2, 0]\n"
     ]
    }
   ],
   "source": [
    "valores = [8, 2, 5, 4, 9, 3, 0]\n",
    "print(valores)\n",
    "valores.sort(reverse=True)\n",
    "print(valores)"
   ]
  },
  {
   "cell_type": "markdown",
   "metadata": {},
   "source": [
    "**Exemplo11**\n",
    "```python\n",
    "#A função len() retorna o número de itens em um objeto.\n",
    "#Quando o objeto é uma string, a len()função retorna o número de caracteres na string.\n",
    "mylist = [\"apple\", \"orange\", \"cherry\"]\n",
    "x = len(mylist)\n",
    "print(x)\n",
    "3\n",
    "```"
   ]
  },
  {
   "cell_type": "code",
   "execution_count": 14,
   "metadata": {},
   "outputs": [
    {
     "name": "stdout",
     "output_type": "stream",
     "text": [
      "Tamanho = 7\n"
     ]
    }
   ],
   "source": [
    "valores = [8, 2, 5, 4, 9, 3, 0]\n",
    "print(f\"Tamanho = {len(valores)}\")"
   ]
  },
  {
   "cell_type": "markdown",
   "metadata": {},
   "source": [
    "<img src=\"https://cdn.jsdelivr.net/gh/devicons/devicon/icons/python/python-original.svg\" width=\"40\" height=\"40\">\n",
    "\n",
    "### USANDO ESTRUTURAS DE REPETIÇÃO COM LISTAS\n",
    "\n",
    "**Exemplo12**<br>\n",
    "**for**\n",
    "```python\n",
    "#Um loop for é usado para iterar sobre uma sequência (que pode ser uma lista, uma tupla, um dicionário, um conjunto ou uma string). Neste caso usamos em uma lista [ ]\n",
    "```"
   ]
  },
  {
   "cell_type": "code",
   "execution_count": 15,
   "metadata": {},
   "outputs": [
    {
     "name": "stdout",
     "output_type": "stream",
     "text": [
      "8...2...5...4...9...3...0..."
     ]
    }
   ],
   "source": [
    "valores = [8, 2, 5, 4, 9, 3, 0]\n",
    "for valor in valores:\n",
    "    print(valor, end='...')"
   ]
  },
  {
   "cell_type": "markdown",
   "metadata": {},
   "source": [
    "**Exemplo13**"
   ]
  },
  {
   "cell_type": "code",
   "execution_count": 16,
   "metadata": {},
   "outputs": [
    {
     "name": "stdout",
     "output_type": "stream",
     "text": [
      "vetor [0] = 8\n",
      "vetor [1] = 2\n",
      "vetor [2] = 5\n",
      "vetor [3] = 4\n",
      "vetor [4] = 9\n",
      "vetor [5] = 3\n",
      "vetor [6] = 0\n"
     ]
    }
   ],
   "source": [
    "vetor = [8, 2, 5, 4, 9, 3, 0]\n",
    "for posicao, elemento in enumerate(vetor):\n",
    "    print(f'vetor [{posicao}] = {elemento}')"
   ]
  },
  {
   "cell_type": "markdown",
   "metadata": {},
   "source": [
    "**Exemplo14**\n",
    "* Nós agora podemos ler valores do usuário e colocar dentro de uma única variável, uma lista! E mais do que isso, podemos usar estruturas de repeticação para fazer isso."
   ]
  },
  {
   "cell_type": "code",
   "execution_count": 17,
   "metadata": {},
   "outputs": [
    {
     "name": "stdout",
     "output_type": "stream",
     "text": [
      "1)Digite um valor inteiro: 4\n",
      "2)Digite um valor inteiro: 4\n",
      "3)Digite um valor inteiro: 2\n",
      "4)Digite um valor inteiro: 1\n",
      "5)Digite um valor inteiro: 3\n",
      "Vetor = [4, 4, 2, 1, 3]\n"
     ]
    }
   ],
   "source": [
    "vetor = list()\n",
    "for i in range(0, 5):\n",
    "    vetor.append(int(input(f\"{i + 1})Digite um valor inteiro: \")))\n",
    "print(f\"Vetor = {vetor}\")"
   ]
  },
  {
   "cell_type": "markdown",
   "metadata": {},
   "source": [
    "**Exemplo15**"
   ]
  },
  {
   "cell_type": "code",
   "execution_count": 22,
   "metadata": {},
   "outputs": [
    {
     "name": "stdout",
     "output_type": "stream",
     "text": [
      "Quantos valores você deseja ler? 7\n",
      "1) Digite um valor inteiro: 4\n",
      "2) Digite um valor inteiro: 1\n",
      "3) Digite um valor inteiro: 2\n",
      "4) Digite um valor inteiro: 3\n",
      "5) Digite um valor inteiro: 6\n",
      "6) Digite um valor inteiro: 5\n",
      "7) Digite um valor inteiro: 8\n",
      "-------------FIM -------------\n",
      "Vetor = [4, 1, 2, 3, 6, 5, 8]\n"
     ]
    }
   ],
   "source": [
    "vetor = list()\n",
    "quantidade = int(input('Quantos valores você deseja ler? '))\n",
    "for i in range(0, quantidade):\n",
    "    vetor.append(int(input(f\"{i + 1}) Digite um valor inteiro: \")))\n",
    "print(f\"{'FIM ':-^30}\")\n",
    "print(f'Vetor = {vetor}')"
   ]
  },
  {
   "cell_type": "markdown",
   "metadata": {},
   "source": [
    "**Exemplo16**<br>\n",
    "**Usando WHILE**\n",
    "\n",
    "```python\n",
    "#Com o loop while , podemos executar um conjunto de instruções, desde que uma condição seja verdadeira.\n",
    "i = 1\n",
    "while i < 6:\n",
    "  print(i, end='')\n",
    "  i += 1\n",
    "1 2 3 4 5     \n",
    "```"
   ]
  },
  {
   "cell_type": "code",
   "execution_count": 24,
   "metadata": {},
   "outputs": [
    {
     "name": "stdout",
     "output_type": "stream",
     "text": [
      "1) Digite um valor inteiro:7\n",
      "Deseja continuar? [S/N]4\n",
      "RESPOSTA INVÁLIDA!\n",
      "Deseja continuar? [S/N]s\n",
      "2) Digite um valor inteiro:2\n",
      "Deseja continuar? [S/N]3\n",
      "RESPOSTA INVÁLIDA!\n",
      "Deseja continuar? [S/N]n\n",
      "Vetor = [7, 2]\n"
     ]
    }
   ],
   "source": [
    "vetor = list()\n",
    "i = 0 \n",
    "while True:\n",
    "    vetor.append(int(input(f\"{i + 1}) Digite um valor inteiro:\" )))\n",
    "    i += 1\n",
    "    \n",
    "    resposta = str(input(\"Deseja continuar? [S/N]\")).strip().upper()[0]\n",
    "    while resposta not in 'SN':\n",
    "        resposta = str(input(\"RESPOSTA INVÁLIDA!\\nDeseja continuar? [S/N]\")).strip().upper()[0]\n",
    "    \n",
    "    if resposta == 'N':\n",
    "        break\n",
    "print(f'Vetor = {vetor}')"
   ]
  },
  {
   "cell_type": "markdown",
   "metadata": {},
   "source": [
    "<img src=\"https://cdn.jsdelivr.net/gh/devicons/devicon/icons/python/python-original.svg\" width=\"40\" height=\"40\">\n",
    "\n",
    "### LIGAÇÃO ENTRE LISTAS\n",
    "**exemplo17**"
   ]
  },
  {
   "cell_type": "code",
   "execution_count": 1,
   "metadata": {},
   "outputs": [
    {
     "name": "stdout",
     "output_type": "stream",
     "text": [
      "Lista a = [1, 100, 3, 4]\n",
      "Lista b = [1, 100, 3, 4]\n"
     ]
    }
   ],
   "source": [
    "a = [1, 2, 3, 4]\n",
    "b = a\n",
    "b[1] = 100\n",
    "print(f'Lista a = {a}')\n",
    "print(f'Lista b = {b}')"
   ]
  },
  {
   "cell_type": "markdown",
   "metadata": {},
   "source": [
    "<img src=\"https://cdn.jsdelivr.net/gh/devicons/devicon/icons/python/python-original.svg\" width=\"40\" height=\"40\">\n",
    "\n",
    "### CÓPIA DE LISTAS\n",
    "**exemplo18**"
   ]
  },
  {
   "cell_type": "code",
   "execution_count": 26,
   "metadata": {},
   "outputs": [
    {
     "name": "stdout",
     "output_type": "stream",
     "text": [
      "Lista a = [1, 2, 3, 4]\n",
      "Lista b = [1, 2, 3, 4]\n"
     ]
    }
   ],
   "source": [
    "a = [1, 2, 3, 4]\n",
    "b = a[:]\n",
    "print(f\"Lista a = {a}\")\n",
    "print(f\"Lista b = {b}\")"
   ]
  }
 ],
 "metadata": {
  "kernelspec": {
   "display_name": "Python 3",
   "language": "python",
   "name": "python3"
  },
  "language_info": {
   "codemirror_mode": {
    "name": "ipython",
    "version": 3
   },
   "file_extension": ".py",
   "mimetype": "text/x-python",
   "name": "python",
   "nbconvert_exporter": "python",
   "pygments_lexer": "ipython3",
   "version": "3.7.3"
  }
 },
 "nbformat": 4,
 "nbformat_minor": 2
}
