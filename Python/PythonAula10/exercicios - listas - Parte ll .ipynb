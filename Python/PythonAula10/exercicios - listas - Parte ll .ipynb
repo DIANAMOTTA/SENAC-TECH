{
 "cells": [
  {
   "cell_type": "markdown",
   "metadata": {},
   "source": [
    "[Exercício 1] Escreva um programa que leia o nome e peso de várias pessoas, guardando tudo em uma lista. No final, mostre:\n",
    "* 1) Quantas pessoas foram cadastradas;\n",
    "* 2) Uma listagem com as pessoas mais pesadas;\n",
    "* 3) Uma listagem com as pessoas mais leve."
   ]
  },
  {
   "cell_type": "code",
   "execution_count": 19,
   "metadata": {},
   "outputs": [
    {
     "name": "stdout",
     "output_type": "stream",
     "text": [
      "Nome: Diana\n",
      "Peso Kg: 45\n",
      "Deseja continuar? [S/N]s\n",
      "Nome: lisi\n",
      "Peso Kg: 47\n",
      "Deseja continuar? [S/N]s\n",
      "Nome: Lucky\n",
      "Peso Kg: 89\n",
      "Deseja continuar? [S/N]n\n",
      "Total de pessoas cadastradas foi 3\n",
      "O maior peso é 89.0kg. Peso de Lucky E o menor peso é 45.0kgDiana\n"
     ]
    }
   ],
   "source": [
    "pessoas = list()\n",
    "dado = list()\n",
    "maior = menor = 0\n",
    "while True:\n",
    "    dado.append(str(input('Nome: ')))\n",
    "    dado.append(float(input('Peso Kg: ')))\n",
    "    if len(pessoas) == 0:\n",
    "        maior = menor = dado[1]\n",
    "    else:\n",
    "        if dado[1] > maior:\n",
    "            maior = dado[1]\n",
    "        if dado[1] < menor:\n",
    "            menor = dado[1]\n",
    "    pessoas.append(dado[:])\n",
    "    dado.clear()\n",
    "    \n",
    "    resposta = str(input('Deseja continuar? [S/N]')).upper().strip()[0]\n",
    "    while resposta not in 'SN':\n",
    "        resposta = str(input('Resposta Inválida! \\nDeseja continuar?  [S/N]')).upper().strip()[0]\n",
    "    if resposta == 'N':\n",
    "        break\n",
    "\n",
    "print(f'Total de pessoas cadastradas foi {len(pessoas)}')\n",
    "print(f'O maior peso é {maior}kg. Peso de ' , end='')\n",
    "for p in pessoas:\n",
    "    if p[1] == maior:\n",
    "        print(f'{p[0]}', end=' ')\n",
    "print(f'E o menor peso é {menor}kg', end=' ')\n",
    "for p in pessoas:\n",
    "    if p[1] == menor:\n",
    "        print(f'{p[0]}')\n"
   ]
  },
  {
   "cell_type": "markdown",
   "metadata": {},
   "source": [
    "[Exercicio02]\n",
    "* Crie um programa onde o usuário possa digitar sete valores numéricos e cadastre-os em uma lista única que mantenha separados os valores pares e ímpares.<br>No final, mostre os valores pares e ímpares em ordem crescente."
   ]
  },
  {
   "cell_type": "code",
   "execution_count": 52,
   "metadata": {},
   "outputs": [
    {
     "name": "stdout",
     "output_type": "stream",
     "text": [
      "Digite o 1º valor: 2\n",
      "Digite o 2º valor: 4\n",
      "Digite o 3º valor: 5\n",
      "Digite o 4º valor: 7\n",
      "Digite o 5º valor: 9\n",
      "Digite o 6º valor: 3\n",
      "Digite o 7º valor: 1\n",
      "Números pares [2, 4]\n",
      "Números ímpares [1, 3, 5, 7, 9]\n"
     ]
    }
   ],
   "source": [
    "núm = [[],[]] # criando uma lista dentro de outra lista\n",
    "valor = 0\n",
    "for c in range(1,8):\n",
    "    valor = int(input(f'Digite o {c}º valor: '))\n",
    "    if valor % 2 == 0:\n",
    "        núm[0].append(valor)\n",
    "    else:\n",
    "        núm[1].append(valor)\n",
    "núm[0].sort()\n",
    "núm[1].sort()#mostre os valores pares e ímpares em ordem crescente.\n",
    "print(f'Números pares {núm[0]}')\n",
    "print(f'Números ímpares {núm[1]}')\n"
   ]
  },
  {
   "cell_type": "markdown",
   "metadata": {},
   "source": [
    "[exercicio3]\n",
    "* Crie um programa que declare uma matriz de dimensão 3×3 e preencha com valores lidos pelo teclado. No final, mostre a matriz na tela, com a formatação correta."
   ]
  },
  {
   "cell_type": "code",
   "execution_count": 90,
   "metadata": {},
   "outputs": [
    {
     "name": "stdout",
     "output_type": "stream",
     "text": [
      "Digite o valor para [0, 0]: 1\n",
      "Digite o valor para [0, 1]: 5587\n",
      "Digite o valor para [0, 2]: 9547\n",
      "Digite o valor para [1, 0]: 632\n",
      "Digite o valor para [1, 1]: 25\n",
      "Digite o valor para [1, 2]: 48\n",
      "Digite o valor para [2, 0]: 2501\n",
      "Digite o valor para [2, 1]: 3021\n",
      "Digite o valor para [2, 2]: 6874\n",
      "-=-=-=-=-=-=-=-=-=-=-=-=-=-=-=-=-=-=-=-=\n",
      "[  1  ][5587 ][9547 ]\n",
      "[ 632 ][ 25  ][ 48  ]\n",
      "[2501 ][3021 ][6874 ]\n"
     ]
    }
   ],
   "source": [
    "matrix = [[0,0,0], [0,0,0],[0,0,0]]\n",
    "#pergunta ao usuario\n",
    "for l in range(0,3):\n",
    "    for c in range(0,3):\n",
    "        matrix[l][c] = int(input(f'Digite o valor para [{l}, {c}]: '))\n",
    "print('-='*20)\n",
    "#mostra a estrutura na tela\n",
    "for l in range(0,3):\n",
    "    for c in range(0,3):\n",
    "        print(f'[{matrix[l][c]:^5}]', end='')\n",
    "    print()"
   ]
  },
  {
   "cell_type": "markdown",
   "metadata": {},
   "source": [
    "Aprimore o desafio anterior, mostrando no final:\n",
    "* A) A soma de todos os valores pares digitados.\n",
    "* B) A soma dos valores da terceira coluna.\n",
    "* C) O maior valor da segunda linha."
   ]
  },
  {
   "cell_type": "code",
   "execution_count": 95,
   "metadata": {},
   "outputs": [
    {
     "name": "stdout",
     "output_type": "stream",
     "text": [
      "Digite o valor para [0, 0]: 1\n",
      "Digite o valor para [0, 1]: 2\n",
      "Digite o valor para [0, 2]: 5\n",
      "Digite o valor para [1, 0]: 7\n",
      "Digite o valor para [1, 1]: 9\n",
      "Digite o valor para [1, 2]: 8\n",
      "Digite o valor para [2, 0]: 2\n",
      "Digite o valor para [2, 1]: 1\n",
      "Digite o valor para [2, 2]: 2\n",
      "-=-=-=-=-=-=-=-=-=-=-=-=-=-=-=-=-=-=-=-=\n",
      "[  1  ][  2  ][  5  ]\n",
      "[  7  ][  9  ][  8  ]\n",
      "[  2  ][  1  ][  2  ]\n",
      "-=-=-=-=-=-=-=-=-=-=-=-=-=-=-=-=-=-=-=-=\n",
      "A soma dos valores pares é 14\n",
      "A soma dos valores da terceira conluna é 15\n",
      "-=-=-=-=-=-=-=-=-=-=-=-=-=-=-=-=-=-=-=-=\n",
      "O maior valor da segunda linha é 9.\n"
     ]
    }
   ],
   "source": [
    "matrix = [[0,0,0], [0,0,0],[0,0,0]]\n",
    "spar = mai = scol = 0\n",
    "#pergunta ao usuario\n",
    "for l in range(0,3):\n",
    "    for c in range(0,3):\n",
    "        matrix[l][c] = int(input(f'Digite o valor para [{l}, {c}]: '))\n",
    "print('-='*20)\n",
    "\n",
    "#mostra a estrutura na tela\n",
    "for l in range(0,3):\n",
    "    for c in range(0,3):\n",
    "        print(f'[{matrix[l][c]:^5}]', end='')\n",
    "        if matrix[l][c] % 2 == 0: #soma números pares\n",
    "            spar += matrix[l][c] #soma números pares\n",
    "    print()\n",
    "print('-='*20)\n",
    "print(f'A soma dos valores pares é {spar}')\n",
    "\n",
    "#soma valores terceira coluna\n",
    "for l in range(0,3):\n",
    "    scol += matrix[l][2]\n",
    "print(f'A soma dos valores da terceira conluna é {scol}')\n",
    "print('-='*20)\n",
    "for c in range(0,3):\n",
    "    if c == 0:\n",
    "        mai = matrix[1][c]\n",
    "    elif matrix [1][c] > mai:\n",
    "        mai = matrix[1][c]\n",
    "print(f'O maior valor da segunda linha é {mai}.')        "
   ]
  },
  {
   "cell_type": "markdown",
   "metadata": {},
   "source": [
    "Faça um programa que ajude um jogador da MEGA SENA a criar palpites.\n",
    "* O programa vai perguntar quantos jogos serão gerados e vai sortear 6 números entre 1 e 60 para cada jogo, cadastrando tudo em uma lista composta."
   ]
  },
  {
   "cell_type": "code",
   "execution_count": 123,
   "metadata": {},
   "outputs": [
    {
     "name": "stdout",
     "output_type": "stream",
     "text": [
      "-=-=-=-=-=-=-=-=-=-=\n",
      "    Jogo da Mega Sena    \n",
      "-=-=-=-=-=-=-=-=-=-=\n",
      "Quantos jogos deseja jogar? 5\n",
      "-=-=-= SORTEANDO 5 JOGOS  -=-=-=\n",
      "Jogo 1: [2, 14, 25, 40, 49, 52]\n",
      "Jogo 2: [1, 17, 23, 36, 47, 50]\n",
      "Jogo 3: [11, 15, 20, 47, 48, 55]\n",
      "Jogo 4: [12, 26, 34, 35, 43, 60]\n",
      "Jogo 5: [1, 11, 17, 30, 31, 45]\n"
     ]
    }
   ],
   "source": [
    "from random import randint\n",
    "from time import sleep\n",
    "lista = []\n",
    "jogos = []\n",
    "print('-='*10)\n",
    "print('    Jogo da Mega Sena    ')\n",
    "print('-='*10)\n",
    "quant = int(input('Quantos jogos deseja jogar? '))\n",
    "tot = 1\n",
    "while tot <= quant:\n",
    "    cont = 0\n",
    "    while True:\n",
    "        num = randint(1,60)\n",
    "        if num not in lista:\n",
    "            lista.append(num)\n",
    "            cont +=1\n",
    "        if cont >= 6:\n",
    "            break\n",
    "    lista.sort()\n",
    "    jogos.append(lista[:])\n",
    "    lista.clear()\n",
    "    tot += 1\n",
    "print('-=' * 3, f'SORTEANDO {quant} JOGOS ', '-=' * 3)\n",
    "for i, l in enumerate(jogos):\n",
    "    print(f'Jogo {i+1}: {l}')\n",
    "    sleep(1)"
   ]
  },
  {
   "cell_type": "code",
   "execution_count": null,
   "metadata": {},
   "outputs": [],
   "source": []
  },
  {
   "cell_type": "markdown",
   "metadata": {},
   "source": [
    "Crie um programa que leia nome e duas notas de vários alunos e guarde tudo em uma lista composta.<br>No final, mostre um boletim contendo a média de cada um e permita que o usuário possa mostrar as notas de cada aluno individualmente."
   ]
  },
  {
   "cell_type": "code",
   "execution_count": 23,
   "metadata": {},
   "outputs": [
    {
     "name": "stdout",
     "output_type": "stream",
     "text": [
      "Nome: dIANA\n",
      "Nota 1: 8\n",
      "Nota 2: 9\n",
      "Deseja continuar? [S/N]S\n",
      "Nome: lisia\n",
      "Nota 1: 7\n",
      "Nota 2: 2\n",
      "Deseja continuar? [S/N]n\n",
      "-=-=-=-=-=-=-=-=-=-=\n",
      "Nº  Nome:<10   Média\n",
      "-=-=-=-=-=-=-=-=-=-=\n",
      "0   dIANA          8.5\n",
      "1   lisia          4.5\n",
      "----------\n",
      "Mostrar notas de qual aluno? (999 interrompe)1\n",
      "Notas de lisia são [7, 2]\n",
      "----------\n",
      "Mostrar notas de qual aluno? (999 interrompe)999\n",
      "FINALIZANDO...\n",
      "<<< VOLTE SEMPRE >>>\n"
     ]
    }
   ],
   "source": [
    "ficha = []\n",
    "while True:\n",
    "    nome = str(input('Nome: '))\n",
    "    nota1 = int(input('Nota 1: '))\n",
    "    nota2 = int(input('Nota 2: '))\n",
    "    media = (nota1 + nota2) / 2\n",
    "    ficha.append([nome, [nota1, nota2], media])\n",
    "    resposta = str(input('Deseja continuar? [S/N]')).strip().upper()\n",
    "    if resposta in 'N':\n",
    "        break\n",
    "print('-='*10)\n",
    "print(f'{\"Nº\":<4}{\"Nome:<10\"}{\"Média\":>8}')\n",
    "print('-='*10)\n",
    "for i, a in enumerate(ficha):\n",
    "      print(f'{i:<4}{a[0]:<10}{a[2]:>8.1f}')\n",
    "while True:\n",
    "      print('-'*10)\n",
    "      opc = int(input('Mostrar notas de qual aluno? (999 interrompe)'))\n",
    "      if opc == 999:\n",
    "          print('FINALIZANDO...')\n",
    "          break\n",
    "      if opc <= len(ficha) -1:\n",
    "          print(f'Notas de {ficha[opc][0]} são {ficha[opc][1]}')\n",
    "print('<<< VOLTE SEMPRE >>>')"
   ]
  },
  {
   "cell_type": "code",
   "execution_count": null,
   "metadata": {},
   "outputs": [],
   "source": []
  }
 ],
 "metadata": {
  "kernelspec": {
   "display_name": "Python 3",
   "language": "python",
   "name": "python3"
  },
  "language_info": {
   "codemirror_mode": {
    "name": "ipython",
    "version": 3
   },
   "file_extension": ".py",
   "mimetype": "text/x-python",
   "name": "python",
   "nbconvert_exporter": "python",
   "pygments_lexer": "ipython3",
   "version": "3.7.3"
  }
 },
 "nbformat": 4,
 "nbformat_minor": 2
}
