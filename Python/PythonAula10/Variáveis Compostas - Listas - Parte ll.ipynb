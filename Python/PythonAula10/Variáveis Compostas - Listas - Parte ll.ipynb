{
 "cells": [
  {
   "cell_type": "markdown",
   "metadata": {},
   "source": [
    "<img src=\"https://cdn.jsdelivr.net/gh/devicons/devicon/icons/python/python-original.svg\" width=\"40\" height=\"40\">\n",
    "\n",
    "### Variáveis Compostas - Listas[ ] - Parte ll\n"
   ]
  },
  {
   "cell_type": "markdown",
   "metadata": {},
   "source": [
    "* Exemplo 1<br>\n",
    "\n",
    "```python\n",
    "dados = ['Diana', 29]\n",
    "pessoas = list()\n",
    "pessoas.append(dados[:])\n",
    "print(pessoas[0])\n",
    "\n",
    "['Diana', 29]\n",
    "```\n",
    "* Criando sublistas\n",
    "\n",
    "**exemplo02**"
   ]
  },
  {
   "cell_type": "code",
   "execution_count": 1,
   "metadata": {},
   "outputs": [
    {
     "name": "stdout",
     "output_type": "stream",
     "text": [
      "Diana\n",
      "Lucky\n",
      "Theo\n",
      "29\n",
      "18\n",
      "22\n",
      "['Diana', 29]\n",
      "['Lucky', 18]\n",
      "['Theo', 22]\n"
     ]
    }
   ],
   "source": [
    "pessoas = [['Diana',29], ['Lucky', 18],['Theo', 22]]\n",
    "# Acessando nomes\n",
    "print(pessoas[0][0])\n",
    "print(pessoas[1][0])\n",
    "print(pessoas[2][0])\n",
    "\n",
    "# Acessando idades\n",
    "print(pessoas[0][1])\n",
    "print(pessoas[1][1])\n",
    "print(pessoas[2][1])\n",
    "\n",
    "# Sublista\n",
    "\n",
    "print(pessoas[0])\n",
    "print(pessoas[1])\n",
    "print(pessoas[2])"
   ]
  },
  {
   "cell_type": "markdown",
   "metadata": {},
   "source": [
    " **exemplo03**"
   ]
  },
  {
   "cell_type": "code",
   "execution_count": 3,
   "metadata": {},
   "outputs": [
    {
     "name": "stdout",
     "output_type": "stream",
     "text": [
      "[['Diana', 27]]\n",
      "[['theo', 26], ['theo', 26]]\n"
     ]
    }
   ],
   "source": [
    "pessoa = list()\n",
    "pessoa.append('Diana')\n",
    "pessoa.append(27)\n",
    "\n",
    "grupo = list()\n",
    "grupo.append(pessoa)\n",
    "print(grupo)\n",
    "\n",
    "pessoa[0] = 'theo'\n",
    "pessoa[1] = 26\n",
    "grupo.append(pessoa)#append(pessoa), gera uma ligação entre a estrutura pessoa e a estrutura grupo. Ou seja, ao mudar a estrutura pessoa, automaticamente, muda-se a estrutura teste\n",
    "print(grupo)"
   ]
  },
  {
   "cell_type": "markdown",
   "metadata": {},
   "source": [
    "[Exemplo 12]<br>Escreva um programa que **pergunte quantas pessoas o usuário deseja registrar.**<br> Depois **mostre** quais são os usuários **menores e maiores de idade** e diga **quantos há de cada um.**"
   ]
  },
  {
   "cell_type": "code",
   "execution_count": 11,
   "metadata": {},
   "outputs": [
    {
     "name": "stdout",
     "output_type": "stream",
     "text": [
      "Quantas pessoas você quer resgitrar? 1\n",
      "Nome: diana\n",
      "Idade: 14\n"
     ]
    },
    {
     "ename": "TypeError",
     "evalue": "'>=' not supported between instances of 'str' and 'int'",
     "output_type": "error",
     "traceback": [
      "\u001b[0;31m---------------------------------------------------------------------------\u001b[0m",
      "\u001b[0;31mTypeError\u001b[0m                                 Traceback (most recent call last)",
      "\u001b[0;32m<ipython-input-11-4049cc987dac>\u001b[0m in \u001b[0;36m<module>\u001b[0;34m\u001b[0m\n\u001b[1;32m     10\u001b[0m \u001b[0;34m\u001b[0m\u001b[0m\n\u001b[1;32m     11\u001b[0m \u001b[0;32mfor\u001b[0m \u001b[0mpessoa\u001b[0m \u001b[0;32min\u001b[0m \u001b[0mgrupo\u001b[0m\u001b[0;34m:\u001b[0m\u001b[0;34m\u001b[0m\u001b[0;34m\u001b[0m\u001b[0m\n\u001b[0;32m---> 12\u001b[0;31m     \u001b[0;32mif\u001b[0m \u001b[0mpessoa\u001b[0m\u001b[0;34m[\u001b[0m\u001b[0;36m1\u001b[0m\u001b[0;34m]\u001b[0m \u001b[0;34m>=\u001b[0m \u001b[0;36m18\u001b[0m\u001b[0;34m:\u001b[0m\u001b[0;34m\u001b[0m\u001b[0;34m\u001b[0m\u001b[0m\n\u001b[0m\u001b[1;32m     13\u001b[0m         \u001b[0mprint\u001b[0m\u001b[0;34m(\u001b[0m\u001b[0;34mf\"{pessoa[0]} é \\033[031mMAIOR\\033[m de idade. \"\u001b[0m\u001b[0;34m)\u001b[0m\u001b[0;34m\u001b[0m\u001b[0;34m\u001b[0m\u001b[0m\n\u001b[1;32m     14\u001b[0m         \u001b[0mmaior_idade\u001b[0m \u001b[0;34m+=\u001b[0m \u001b[0;36m1\u001b[0m\u001b[0;34m\u001b[0m\u001b[0;34m\u001b[0m\u001b[0m\n",
      "\u001b[0;31mTypeError\u001b[0m: '>=' not supported between instances of 'str' and 'int'"
     ]
    }
   ],
   "source": [
    "grupo = list()\n",
    "auxiliar = list()\n",
    "maior_idade = menor_idade = 0\n",
    "quantidade = int(input('Quantas pessoas você quer resgitrar? '))\n",
    "for i in range(0, quantidade):\n",
    "    auxiliar.append(str(input('Nome: ')))\n",
    "    auxiliar.append(str(input('Idade: ')))\n",
    "    grupo.append(auxiliar[:])\n",
    "    auxiliar.clear()\n",
    "    \n",
    "for pessoa in grupo:\n",
    "    if pessoa[1] >= 18:\n",
    "        print(f\"{pessoa[0]} é \\033[031mMAIOR\\033[m de idade. \")\n",
    "        maior_idade += 1\n",
    "    else:\n",
    "        print(f\"{pessoa[0]} é \\033[031mMENOR\\033[m de idade. \")\n",
    "        menor_idade += 1\n",
    "print(f\"Temos {menor_idade} menores de idade e {maior_idade} maiores de idades resgistrados. \")"
   ]
  },
  {
   "cell_type": "code",
   "execution_count": null,
   "metadata": {},
   "outputs": [],
   "source": []
  }
 ],
 "metadata": {
  "kernelspec": {
   "display_name": "Python 3",
   "language": "python",
   "name": "python3"
  },
  "language_info": {
   "codemirror_mode": {
    "name": "ipython",
    "version": 3
   },
   "file_extension": ".py",
   "mimetype": "text/x-python",
   "name": "python",
   "nbconvert_exporter": "python",
   "pygments_lexer": "ipython3",
   "version": "3.7.3"
  }
 },
 "nbformat": 4,
 "nbformat_minor": 2
}
